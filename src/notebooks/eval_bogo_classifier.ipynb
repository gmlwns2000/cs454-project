{
 "cells": [
  {
   "cell_type": "code",
   "execution_count": 2,
   "metadata": {},
   "outputs": [],
   "source": [
    "from src.szz_dataset.szz import get_dataloaders\n",
    "import transformers\n",
    "import tqdm"
   ]
  },
  {
   "cell_type": "code",
   "execution_count": 3,
   "metadata": {},
   "outputs": [
    {
     "name": "stderr",
     "output_type": "stream",
     "text": [
      "100%|██████████| 1278/1278 [00:41<00:00, 31.14it/s]\n"
     ]
    },
    {
     "name": "stdout",
     "output_type": "stream",
     "text": [
      "cache/data_basic/data.json train 0.30464875969892813\n"
     ]
    },
    {
     "name": "stderr",
     "output_type": "stream",
     "text": [
      "100%|██████████| 68/68 [00:02<00:00, 24.09it/s]\n"
     ]
    },
    {
     "name": "stdout",
     "output_type": "stream",
     "text": [
      "cache/data_basic/data.json valid 0.309747879632857\n"
     ]
    },
    {
     "name": "stderr",
     "output_type": "stream",
     "text": [
      "100%|██████████| 8/8 [00:00<00:00, 10.01it/s]\n"
     ]
    },
    {
     "name": "stdout",
     "output_type": "stream",
     "text": [
      "cache/data_basic/data.json valid_unseen 0.25918153200419725\n"
     ]
    },
    {
     "name": "stderr",
     "output_type": "stream",
     "text": [
      "100%|██████████| 1278/1278 [00:42<00:00, 30.14it/s]\n"
     ]
    },
    {
     "name": "stdout",
     "output_type": "stream",
     "text": [
      "cache/data_commit_meta/data_ex.json train 0.30464875969892813\n"
     ]
    },
    {
     "name": "stderr",
     "output_type": "stream",
     "text": [
      "100%|██████████| 68/68 [00:03<00:00, 21.55it/s]\n"
     ]
    },
    {
     "name": "stdout",
     "output_type": "stream",
     "text": [
      "cache/data_commit_meta/data_ex.json valid 0.309747879632857\n"
     ]
    },
    {
     "name": "stderr",
     "output_type": "stream",
     "text": [
      "100%|██████████| 8/8 [00:00<00:00,  9.73it/s]\n"
     ]
    },
    {
     "name": "stdout",
     "output_type": "stream",
     "text": [
      "cache/data_commit_meta/data_ex.json valid_unseen 0.25918153200419725\n"
     ]
    },
    {
     "name": "stderr",
     "output_type": "stream",
     "text": [
      "100%|██████████| 1278/1278 [00:40<00:00, 31.81it/s]\n"
     ]
    },
    {
     "name": "stdout",
     "output_type": "stream",
     "text": [
      "cache/data_commit_meta_natural/data_ex.json train 0.30464875969892813\n"
     ]
    },
    {
     "name": "stderr",
     "output_type": "stream",
     "text": [
      "100%|██████████| 68/68 [00:02<00:00, 24.84it/s]\n"
     ]
    },
    {
     "name": "stdout",
     "output_type": "stream",
     "text": [
      "cache/data_commit_meta_natural/data_ex.json valid 0.309747879632857\n"
     ]
    },
    {
     "name": "stderr",
     "output_type": "stream",
     "text": [
      "100%|██████████| 8/8 [00:00<00:00,  9.91it/s]"
     ]
    },
    {
     "name": "stdout",
     "output_type": "stream",
     "text": [
      "cache/data_commit_meta_natural/data_ex.json valid_unseen 0.25918153200419725\n"
     ]
    },
    {
     "name": "stderr",
     "output_type": "stream",
     "text": [
      "\n"
     ]
    }
   ],
   "source": [
    "pathes = [\n",
    "    'cache/data_basic/data.json',\n",
    "    'cache/data_commit_meta/data_ex.json',\n",
    "    'cache/data_commit_meta_natural/data_ex.json',\n",
    "]\n",
    "\n",
    "def calc_avg_label(loader):\n",
    "    s = 0\n",
    "    c = 0\n",
    "    for batch in tqdm.tqdm(loader):\n",
    "        s += batch['labels'].sum().item()\n",
    "        c += len(batch['labels'])\n",
    "    return s / c\n",
    "\n",
    "t = transformers.AutoTokenizer.from_pretrained('bert-base-uncased')\n",
    "for path in pathes:\n",
    "    train, valid, valid_unseen = get_dataloaders(path, 128, t)\n",
    "    print(path, 'train', calc_avg_label(train))\n",
    "    print(path, 'valid', calc_avg_label(valid))\n",
    "    print(path, 'valid_unseen', calc_avg_label(valid_unseen))"
   ]
  },
  {
   "cell_type": "code",
   "execution_count": null,
   "metadata": {},
   "outputs": [],
   "source": []
  }
 ],
 "metadata": {
  "kernelspec": {
   "display_name": "torch",
   "language": "python",
   "name": "python3"
  },
  "language_info": {
   "codemirror_mode": {
    "name": "ipython",
    "version": 3
   },
   "file_extension": ".py",
   "mimetype": "text/x-python",
   "name": "python",
   "nbconvert_exporter": "python",
   "pygments_lexer": "ipython3",
   "version": "3.9.18"
  }
 },
 "nbformat": 4,
 "nbformat_minor": 2
}
